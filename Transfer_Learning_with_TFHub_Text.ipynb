{
  "nbformat": 4,
  "nbformat_minor": 0,
  "metadata": {
    "colab": {
      "name": "Transfer Learning with TFHub - Text.ipynb",
      "provenance": [],
      "include_colab_link": true
    },
    "kernelspec": {
      "name": "python3",
      "display_name": "Python 3"
    },
    "accelerator": "GPU"
  },
  "cells": [
    {
      "cell_type": "markdown",
      "metadata": {
        "id": "view-in-github",
        "colab_type": "text"
      },
      "source": [
        "<a href=\"https://colab.research.google.com/github/otlvrzl/transfer_learning1/blob/main/Transfer_Learning_with_TFHub_Text.ipynb\" target=\"_parent\"><img src=\"https://colab.research.google.com/assets/colab-badge.svg\" alt=\"Open In Colab\"/></a>"
      ]
    },
    {
      "cell_type": "markdown",
      "metadata": {
        "id": "GmdnIpcaRwyR"
      },
      "source": [
        "# Transfer Learning with TensorFlow Hub \n",
        "## Text Classification - Sentiment Analysis on IMDB Movie Reviews\n",
        "\n",
        "This notebook shows an example of how to use text embeddings from TensorFlow Hub for text classification on IMDB movie reviews.\n"
      ]
    },
    {
      "cell_type": "code",
      "metadata": {
        "id": "lho7SROHMHbY"
      },
      "source": [
        "# Enable TensorFlow 2.0\n",
        "%tensorflow_version 2.x"
      ],
      "execution_count": 1,
      "outputs": []
    },
    {
      "cell_type": "code",
      "metadata": {
        "id": "IlCQM7s8aCwi",
        "outputId": "199f5f47-ad2c-453e-95c9-cbaa1e3cca5a",
        "colab": {
          "base_uri": "https://localhost:8080/",
          "height": 35
        }
      },
      "source": [
        "# Import Tensorflow\n",
        "import tensorflow as tf\n",
        "tf.__version__"
      ],
      "execution_count": 2,
      "outputs": [
        {
          "output_type": "execute_result",
          "data": {
            "application/vnd.google.colaboratory.intrinsic+json": {
              "type": "string"
            },
            "text/plain": [
              "'2.8.0'"
            ]
          },
          "metadata": {},
          "execution_count": 2
        }
      ]
    },
    {
      "cell_type": "code",
      "metadata": {
        "id": "gvrFUm2taROz",
        "outputId": "370be647-e0e5-422e-9a8e-a58885896426",
        "colab": {
          "base_uri": "https://localhost:8080/"
        }
      },
      "source": [
        "# Import TensorFlow Hub\n",
        "import tensorflow_hub as hub\n",
        "print(\"Hub version: \", hub.__version__)"
      ],
      "execution_count": 3,
      "outputs": [
        {
          "output_type": "stream",
          "name": "stdout",
          "text": [
            "Hub version:  0.12.0\n"
          ]
        }
      ]
    },
    {
      "cell_type": "code",
      "metadata": {
        "id": "wLfVjovUPWBg"
      },
      "source": [
        "# Import TensorFlow datasets\n",
        "import tensorflow_datasets as tfds\n",
        "tfds.disable_progress_bar()\n",
        "\n",
        "# Import Numpy\n",
        "import numpy as np\n",
        "import matplotlib.pyplot as plt"
      ],
      "execution_count": 4,
      "outputs": []
    },
    {
      "cell_type": "markdown",
      "metadata": {
        "id": "GQWjjZ7qRAKG"
      },
      "source": [
        "## Data pipeline"
      ]
    },
    {
      "cell_type": "markdown",
      "metadata": {
        "id": "f83QZINdSevb"
      },
      "source": [
        "### Load the dataset"
      ]
    },
    {
      "cell_type": "code",
      "metadata": {
        "id": "5KCcasuyPbM0",
        "colab": {
          "base_uri": "https://localhost:8080/"
        },
        "outputId": "1a89fd6f-2007-4eae-cba5-29f0476cd0de"
      },
      "source": [
        "# Split the training set into 60% (for training) and 40% (for validation)\n",
        "train_data, validation_data, test_data = tfds.load(\n",
        "    name=\"imdb_reviews\", \n",
        "    split=('train[:60%]', 'train[60%:]', 'test'),\n",
        "    as_supervised=True)"
      ],
      "execution_count": 5,
      "outputs": [
        {
          "output_type": "stream",
          "name": "stdout",
          "text": [
            "\u001b[1mDownloading and preparing dataset imdb_reviews/plain_text/1.0.0 (download: 80.23 MiB, generated: Unknown size, total: 80.23 MiB) to /root/tensorflow_datasets/imdb_reviews/plain_text/1.0.0...\u001b[0m\n",
            "Shuffling and writing examples to /root/tensorflow_datasets/imdb_reviews/plain_text/1.0.0.incompleteRSJJBI/imdb_reviews-train.tfrecord\n",
            "Shuffling and writing examples to /root/tensorflow_datasets/imdb_reviews/plain_text/1.0.0.incompleteRSJJBI/imdb_reviews-test.tfrecord\n",
            "Shuffling and writing examples to /root/tensorflow_datasets/imdb_reviews/plain_text/1.0.0.incompleteRSJJBI/imdb_reviews-unsupervised.tfrecord\n"
          ]
        },
        {
          "output_type": "stream",
          "name": "stderr",
          "text": [
            "WARNING:absl:Dataset is using deprecated text encoder API which will be removed soon. Please use the plain_text version of the dataset and migrate to `tensorflow_text`.\n"
          ]
        },
        {
          "output_type": "stream",
          "name": "stdout",
          "text": [
            "\u001b[1mDataset imdb_reviews downloaded and prepared to /root/tensorflow_datasets/imdb_reviews/plain_text/1.0.0. Subsequent calls will reuse this data.\u001b[0m\n"
          ]
        }
      ]
    },
    {
      "cell_type": "markdown",
      "metadata": {
        "id": "CeC9VnYq5202"
      },
      "source": [
        "### Explore the dataset"
      ]
    },
    {
      "cell_type": "code",
      "metadata": {
        "id": "M1WVYne8RCGX",
        "outputId": "89d971e8-45d7-4949-fe8a-bac489f04d42",
        "colab": {
          "base_uri": "https://localhost:8080/"
        }
      },
      "source": [
        "# Take a look at the texts of a few of the movie reviews\n",
        "train_examples_batch, train_labels_batch = next(iter(train_data.batch(4)))\n",
        "train_examples_batch"
      ],
      "execution_count": 6,
      "outputs": [
        {
          "output_type": "execute_result",
          "data": {
            "text/plain": [
              "<tf.Tensor: shape=(4,), dtype=string, numpy=\n",
              "array([b\"This was an absolutely terrible movie. Don't be lured in by Christopher Walken or Michael Ironside. Both are great actors, but this must simply be their worst role in history. Even their great acting could not redeem this movie's ridiculous storyline. This movie is an early nineties US propaganda piece. The most pathetic scenes were those when the Columbian rebels were making their cases for revolutions. Maria Conchita Alonso appeared phony, and her pseudo-love affair with Walken was nothing but a pathetic emotional plug in a movie that was devoid of any real meaning. I am disappointed that there are movies like this, ruining actor's like Christopher Walken's good name. I could barely sit through it.\",\n",
              "       b'I have been known to fall asleep during films, but this is usually due to a combination of things including, really tired, being warm and comfortable on the sette and having just eaten a lot. However on this occasion I fell asleep because the film was rubbish. The plot development was constant. Constantly slow and boring. Things seemed to happen, but with no explanation of what was causing them or why. I admit, I may have missed part of the film, but i watched the majority of it and everything just seemed to happen of its own accord without any real concern for anything else. I cant recommend this film at all.',\n",
              "       b'Mann photographs the Alberta Rocky Mountains in a superb fashion, and Jimmy Stewart and Walter Brennan give enjoyable performances as they always seem to do. <br /><br />But come on Hollywood - a Mountie telling the people of Dawson City, Yukon to elect themselves a marshal (yes a marshal!) and to enforce the law themselves, then gunfighters battling it out on the streets for control of the town? <br /><br />Nothing even remotely resembling that happened on the Canadian side of the border during the Klondike gold rush. Mr. Mann and company appear to have mistaken Dawson City for Deadwood, the Canadian North for the American Wild West.<br /><br />Canadian viewers be prepared for a Reefer Madness type of enjoyable howl with this ludicrous plot, or, to shake your head in disgust.',\n",
              "       b'This is the kind of film for a snowy Sunday afternoon when the rest of the world can go ahead with its own business as you descend into a big arm-chair and mellow for a couple of hours. Wonderful performances from Cher and Nicolas Cage (as always) gently row the plot along. There are no rapids to cross, no dangerous waters, just a warm and witty paddle through New York life at its best. A family film in every sense and one that deserves the praise it received.'],\n",
              "      dtype=object)>"
            ]
          },
          "metadata": {},
          "execution_count": 6
        }
      ]
    },
    {
      "cell_type": "code",
      "metadata": {
        "id": "4sg6_R8YRFig",
        "outputId": "db2ebfbb-fd2f-45c6-c9ea-5ba8dbe294b6",
        "colab": {
          "base_uri": "https://localhost:8080/"
        }
      },
      "source": [
        "# Take a look at a few of the labels of the movie reviews\n",
        "train_labels_batch"
      ],
      "execution_count": 7,
      "outputs": [
        {
          "output_type": "execute_result",
          "data": {
            "text/plain": [
              "<tf.Tensor: shape=(4,), dtype=int64, numpy=array([0, 0, 0, 1])>"
            ]
          },
          "metadata": {},
          "execution_count": 7
        }
      ]
    },
    {
      "cell_type": "markdown",
      "metadata": {
        "id": "JpSnbt-49OnT"
      },
      "source": [
        "## Training\n"
      ]
    },
    {
      "cell_type": "markdown",
      "metadata": {
        "id": "IL6rdS2xDxPy"
      },
      "source": [
        "### Create the model"
      ]
    },
    {
      "cell_type": "code",
      "metadata": {
        "id": "YmgcHPkPSvr8",
        "outputId": "2bd9ace1-41a3-4685-c4ec-ad96b08aba28",
        "colab": {
          "base_uri": "https://localhost:8080/"
        }
      },
      "source": [
        "# Create embedding layer with a TensoorFlow Hub pretained model\n",
        "embedding = \"https://tfhub.dev/google/tf2-preview/gnews-swivel-20dim/1\"\n",
        "hub_layer = hub.KerasLayer(embedding, input_shape=[], dtype=tf.string, trainable=True)\n",
        "hub_layer(train_examples_batch[:5]) # Note: each of the embedding vectors is 20-dimensional"
      ],
      "execution_count": 8,
      "outputs": [
        {
          "output_type": "execute_result",
          "data": {
            "text/plain": [
              "<tf.Tensor: shape=(4, 20), dtype=float32, numpy=\n",
              "array([[ 1.7657859 , -3.882232  ,  3.913424  , -1.5557289 , -3.3362343 ,\n",
              "        -1.7357956 , -1.9954445 ,  1.298955  ,  5.081597  , -1.1041285 ,\n",
              "        -2.0503852 , -0.7267516 , -0.6567596 ,  0.24436145, -3.7208388 ,\n",
              "         2.0954835 ,  2.2969332 , -2.0689783 , -2.9489715 , -1.1315986 ],\n",
              "       [ 1.8804485 , -2.5852385 ,  3.4066994 ,  1.0982676 , -4.056685  ,\n",
              "        -4.891284  , -2.7855542 ,  1.3874227 ,  3.8476458 , -0.9256539 ,\n",
              "        -1.896706  ,  1.2113281 ,  0.11474716,  0.76209456, -4.8791065 ,\n",
              "         2.906149  ,  4.7087674 , -2.3652055 , -3.5015903 , -1.6390051 ],\n",
              "       [ 0.71152216, -0.63532174,  1.7385626 , -1.1168287 , -0.54515934,\n",
              "        -1.1808155 ,  0.09504453,  1.4653089 ,  0.66059506,  0.79308075,\n",
              "        -2.2268343 ,  0.07446616, -1.4075902 , -0.706454  , -1.907037  ,\n",
              "         1.4419788 ,  1.9551864 , -0.42660046, -2.8022065 ,  0.43727067],\n",
              "       [ 1.5164999 , -0.7103405 ,  1.8556769 , -1.2033532 , -1.3105817 ,\n",
              "        -0.8829813 , -1.1187646 ,  0.53186005,  1.0793796 , -1.704331  ,\n",
              "        -2.4198956 ,  1.3787876 , -1.5979576 , -0.8075193 , -2.7702348 ,\n",
              "         1.4840026 ,  2.2181199 , -1.175298  , -3.6538322 , -0.4322719 ]],\n",
              "      dtype=float32)>"
            ]
          },
          "metadata": {},
          "execution_count": 8
        }
      ]
    },
    {
      "cell_type": "code",
      "metadata": {
        "id": "RrTSL-h-S3oF",
        "outputId": "41842ee1-8235-4770-a3b0-a2b785163410",
        "colab": {
          "base_uri": "https://localhost:8080/"
        }
      },
      "source": [
        "model = tf.keras.Sequential()\n",
        "model.add(hub_layer)\n",
        "model.add(tf.keras.layers.Dense(16, activation='relu'))\n",
        "model.add(tf.keras.layers.Dense(1))\n",
        "\n",
        "model.summary()"
      ],
      "execution_count": 9,
      "outputs": [
        {
          "output_type": "stream",
          "name": "stdout",
          "text": [
            "Model: \"sequential\"\n",
            "_________________________________________________________________\n",
            " Layer (type)                Output Shape              Param #   \n",
            "=================================================================\n",
            " keras_layer (KerasLayer)    (None, 20)                400020    \n",
            "                                                                 \n",
            " dense (Dense)               (None, 16)                336       \n",
            "                                                                 \n",
            " dense_1 (Dense)             (None, 1)                 17        \n",
            "                                                                 \n",
            "=================================================================\n",
            "Total params: 400,373\n",
            "Trainable params: 400,373\n",
            "Non-trainable params: 0\n",
            "_________________________________________________________________\n"
          ]
        }
      ]
    },
    {
      "cell_type": "markdown",
      "metadata": {
        "id": "CLuyoIzi9vhU"
      },
      "source": [
        "### Compile the model"
      ]
    },
    {
      "cell_type": "code",
      "metadata": {
        "id": "gPLRESKAS5ms"
      },
      "source": [
        "model.compile(optimizer='adam',\n",
        "              loss=tf.keras.losses.BinaryCrossentropy(from_logits=True),\n",
        "              metrics=['accuracy'])"
      ],
      "execution_count": 10,
      "outputs": []
    },
    {
      "cell_type": "markdown",
      "metadata": {
        "id": "XVec7UJTFoax"
      },
      "source": [
        "### Train the model"
      ]
    },
    {
      "cell_type": "code",
      "metadata": {
        "id": "m43EDxLZZ5Go"
      },
      "source": [
        "# Set training parameters\n",
        "NUM_EPOCHS = 20"
      ],
      "execution_count": 11,
      "outputs": []
    },
    {
      "cell_type": "code",
      "metadata": {
        "id": "LkkrRnQuS8y3",
        "outputId": "91c3a092-a4eb-4903-ed5d-198d300cda7a",
        "colab": {
          "base_uri": "https://localhost:8080/"
        }
      },
      "source": [
        "history = model.fit(train_data.shuffle(10000).batch(512),\n",
        "                    epochs=NUM_EPOCHS,\n",
        "                    validation_data=validation_data.batch(512),\n",
        "                    verbose=1)"
      ],
      "execution_count": 12,
      "outputs": [
        {
          "output_type": "stream",
          "name": "stdout",
          "text": [
            "Epoch 1/20\n",
            "30/30 [==============================] - 7s 96ms/step - loss: 0.8005 - accuracy: 0.5119 - val_loss: 0.7187 - val_accuracy: 0.5459\n",
            "Epoch 2/20\n",
            "30/30 [==============================] - 4s 97ms/step - loss: 0.6901 - accuracy: 0.5633 - val_loss: 0.6492 - val_accuracy: 0.5871\n",
            "Epoch 3/20\n",
            "30/30 [==============================] - 4s 96ms/step - loss: 0.6283 - accuracy: 0.6082 - val_loss: 0.6041 - val_accuracy: 0.6448\n",
            "Epoch 4/20\n",
            "30/30 [==============================] - 4s 95ms/step - loss: 0.5859 - accuracy: 0.6555 - val_loss: 0.5723 - val_accuracy: 0.6815\n",
            "Epoch 5/20\n",
            "30/30 [==============================] - 4s 94ms/step - loss: 0.5531 - accuracy: 0.6906 - val_loss: 0.5443 - val_accuracy: 0.6946\n",
            "Epoch 6/20\n",
            "30/30 [==============================] - 4s 92ms/step - loss: 0.5224 - accuracy: 0.7196 - val_loss: 0.5169 - val_accuracy: 0.7275\n",
            "Epoch 7/20\n",
            "30/30 [==============================] - 4s 94ms/step - loss: 0.4900 - accuracy: 0.7522 - val_loss: 0.4896 - val_accuracy: 0.7525\n",
            "Epoch 8/20\n",
            "30/30 [==============================] - 4s 90ms/step - loss: 0.4576 - accuracy: 0.7786 - val_loss: 0.4623 - val_accuracy: 0.7668\n",
            "Epoch 9/20\n",
            "30/30 [==============================] - 4s 93ms/step - loss: 0.4256 - accuracy: 0.7974 - val_loss: 0.4371 - val_accuracy: 0.7852\n",
            "Epoch 10/20\n",
            "30/30 [==============================] - 4s 90ms/step - loss: 0.3935 - accuracy: 0.8229 - val_loss: 0.4132 - val_accuracy: 0.7983\n",
            "Epoch 11/20\n",
            "30/30 [==============================] - 4s 91ms/step - loss: 0.3633 - accuracy: 0.8385 - val_loss: 0.3914 - val_accuracy: 0.8134\n",
            "Epoch 12/20\n",
            "30/30 [==============================] - 4s 90ms/step - loss: 0.3357 - accuracy: 0.8539 - val_loss: 0.3735 - val_accuracy: 0.8189\n",
            "Epoch 13/20\n",
            "30/30 [==============================] - 4s 91ms/step - loss: 0.3086 - accuracy: 0.8712 - val_loss: 0.3561 - val_accuracy: 0.8354\n",
            "Epoch 14/20\n",
            "30/30 [==============================] - 4s 91ms/step - loss: 0.2855 - accuracy: 0.8819 - val_loss: 0.3425 - val_accuracy: 0.8443\n",
            "Epoch 15/20\n",
            "30/30 [==============================] - 4s 93ms/step - loss: 0.2638 - accuracy: 0.8924 - val_loss: 0.3316 - val_accuracy: 0.8530\n",
            "Epoch 16/20\n",
            "30/30 [==============================] - 4s 89ms/step - loss: 0.2445 - accuracy: 0.9037 - val_loss: 0.3224 - val_accuracy: 0.8536\n",
            "Epoch 17/20\n",
            "30/30 [==============================] - 4s 91ms/step - loss: 0.2275 - accuracy: 0.9110 - val_loss: 0.3159 - val_accuracy: 0.8563\n",
            "Epoch 18/20\n",
            "30/30 [==============================] - 4s 91ms/step - loss: 0.2123 - accuracy: 0.9193 - val_loss: 0.3102 - val_accuracy: 0.8612\n",
            "Epoch 19/20\n",
            "30/30 [==============================] - 4s 90ms/step - loss: 0.1979 - accuracy: 0.9251 - val_loss: 0.3058 - val_accuracy: 0.8640\n",
            "Epoch 20/20\n",
            "30/30 [==============================] - 3s 89ms/step - loss: 0.1854 - accuracy: 0.9309 - val_loss: 0.3030 - val_accuracy: 0.8661\n"
          ]
        }
      ]
    },
    {
      "cell_type": "code",
      "metadata": {
        "id": "M15k101kTHyc"
      },
      "source": [
        "# Display training curves\n",
        "def display_training_curves(history, title):\n",
        "  acc = history.history['accuracy']\n",
        "  val_acc = history.history['val_accuracy']\n",
        "\n",
        "  loss = history.history['loss']\n",
        "  val_loss = history.history['val_loss']\n",
        "\n",
        "  epochs_range = range(NUM_EPOCHS)\n",
        "\n",
        "  plt.plot(epochs_range, acc, label='Train accuracy')\n",
        "  plt.plot(epochs_range, val_acc, label='Val accuracy')\n",
        "  plt.title(title)\n",
        "  plt.legend(loc='upper left')\n",
        "  plt.figure()\n",
        "\n",
        "  plt.show()"
      ],
      "execution_count": 14,
      "outputs": []
    },
    {
      "cell_type": "code",
      "metadata": {
        "id": "KJ9_t9xfTKLM",
        "outputId": "b9826c23-6485-4c99-9b68-4588ce35dd28",
        "colab": {
          "base_uri": "https://localhost:8080/",
          "height": 299
        }
      },
      "source": [
        "# Display training curve \n",
        "display_training_curves(history, \"Text Classification with TF Hub\")"
      ],
      "execution_count": 15,
      "outputs": [
        {
          "output_type": "display_data",
          "data": {
            "image/png": "[encoded data removed]",
            "text/plain": [
              "<Figure size 432x288 with 1 Axes>"
            ]
          },
          "metadata": {
            "needs_background": "light"
          }
        },
        {
          "output_type": "display_data",
          "data": {
            "text/plain": [
              "<Figure size 432x288 with 0 Axes>"
            ]
          },
          "metadata": {}
        }
      ]
    },
    {
      "cell_type": "code",
      "metadata": {
        "id": "SnJcPGNBNNGV"
      },
      "source": [
        "### Evaluate the model"
      ],
      "execution_count": 16,
      "outputs": []
    },
    {
      "cell_type": "code",
      "metadata": {
        "id": "pCNenKg8S_LA",
        "outputId": "c533bb5d-ee56-471d-d8f5-2916b1c63a2b",
        "colab": {
          "base_uri": "https://localhost:8080/"
        }
      },
      "source": [
        "results = model.evaluate(test_data.batch(512), verbose=2)\n",
        "\n",
        "for name, value in zip(model.metrics_names, results):\n",
        "  print(\"%s: %.3f\" % (name, value))"
      ],
      "execution_count": 17,
      "outputs": [
        {
          "output_type": "stream",
          "name": "stdout",
          "text": [
            "49/49 - 4s - loss: 0.3175 - accuracy: 0.8549 - 4s/epoch - 86ms/step\n",
            "loss: 0.317\n",
            "accuracy: 0.855\n"
          ]
        }
      ]
    },
    {
      "cell_type": "code",
      "metadata": {
        "id": "GvHOOJSDZG4u"
      },
      "source": [
        ""
      ],
      "execution_count": null,
      "outputs": []
    }
  ]
}